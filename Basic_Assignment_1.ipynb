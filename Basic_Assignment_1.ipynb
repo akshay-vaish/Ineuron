{
 "cells": [
  {
   "cell_type": "markdown",
   "metadata": {},
   "source": [
    "Q1. In the below elements which of them are values or an expression? eg:- values can be integer or string and expressions will be mathematical operators.\n",
    "*  \n",
    "'hello'  \n",
    "-87.8  \n",
    "-  \n",
    "/  \n",
    "+  \n",
    "6  \n",
    "  \n",
    "**Answer**  \n",
    "Values: -87.8,6  \n",
    "Expressions: *,-,+\n"
   ]
  },
  {
   "cell_type": "markdown",
   "metadata": {},
   "source": [
    "Q2. What is the difference between string and variable?  \n",
    "  \n",
    "  **A**  \n",
    "  **String**-Immutable or hashable datatype enclosed with single and double quotes that can be stored into variable .  \n",
    "  Example:'expression'  \n",
    "  **Variable**- reserved memory location to store values."
   ]
  },
  {
   "cell_type": "markdown",
   "metadata": {},
   "source": [
    "Q3.  Describe three different data types.  \n",
    "**Number**- numeric data type represent the data which has numeric value. Numeric value can be integer, floating number or even complex numbers. These values are defined as int , float and complex class in Python  \n",
    "**String**  - A string is a collection of one or more characters put in a single quote, double-quote or triple quote.  \n",
    "\n",
    "**List** -List is an ordered sequence of items.list is created by placing all the items (elements) inside square brackets [] , separated by commas  \n"
   ]
  },
  {
   "cell_type": "markdown",
   "metadata": {},
   "source": [
    "Q4.  What is an expression made up of? What do all expressions do?  \n",
    "A  \n",
    "**Expression**- An expression can be broken down into operators and operands.  \n",
    " A simple example of an expression is 2 + 3 .  \n",
    "   \n",
    "  An expression is an instruction that combines values and operators and always evaluates down to a single value.  \n",
    "  \n",
    " Expression statements are used (mostly interactively) to compute and write a value, or (usually) to call a procedure (a function that returns no meaningful result; in Python, procedures return the value None ). "
   ]
  },
  {
   "cell_type": "markdown",
   "metadata": {},
   "source": [
    "Q5. This assignment statements, like spam = 10. What is the difference between an expression and a statement?  \n",
    "\n",
    "**A**  \n",
    "An expression evaluates to a value. A statement does something. Statements represent an action or command e.g print statements, assignment statements."
   ]
  },
  {
   "cell_type": "markdown",
   "metadata": {},
   "source": [
    "Q6. After running the following code, what does the variable bacon contain?  \n",
    "bacon = 22  \n",
    "bacon + 1  \n",
    "**A**  \n",
    "22"
   ]
  },
  {
   "cell_type": "code",
   "execution_count": null,
   "metadata": {},
   "outputs": [],
   "source": [
    " Q7. What should the values of the following two terms be?  \n",
    "'spam' + 'spamspam'  \n",
    "'spam' * 3  \n",
    "**A** \n",
    "'spamspamspam'  \n",
    "'spamspamspam'  \n",
    "\n",
    "    "
   ]
  },
  {
   "cell_type": "markdown",
   "metadata": {},
   "source": [
    "Q8. Why is eggs a valid variable name while 100 is invalid?  \n",
    "**A**  \n",
    "Identifiers cannot start with digit that's why 100 is invalid variable.\n"
   ]
  },
  {
   "cell_type": "code",
   "execution_count": null,
   "metadata": {},
   "outputs": [],
   "source": []
  }
 ],
 "metadata": {
  "kernelspec": {
   "display_name": "Python 3",
   "language": "python",
   "name": "python3"
  },
  "language_info": {
   "codemirror_mode": {
    "name": "ipython",
    "version": 3
   },
   "file_extension": ".py",
   "mimetype": "text/x-python",
   "name": "python",
   "nbconvert_exporter": "python",
   "pygments_lexer": "ipython3",
   "version": "3.7.6"
  }
 },
 "nbformat": 4,
 "nbformat_minor": 4
}
